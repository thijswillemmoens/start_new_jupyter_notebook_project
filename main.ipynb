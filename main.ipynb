{
 "cells": [
  {
   "cell_type": "markdown",
   "id": "8a77807f92f26ee",
   "metadata": {},
   "source": [
    "# New Jupyter notebook project\n",
    "\n",
    "by: Thijs Moens\n",
    "\n",
    "dd-mm-yyyy"
   ]
  },
  {
   "cell_type": "markdown",
   "id": "6cf299bd",
   "metadata": {},
   "source": [
    "## Step 1: Import libraries "
   ]
  },
  {
   "cell_type": "code",
   "execution_count": null,
   "id": "8ed93bd5",
   "metadata": {},
   "outputs": [],
   "source": [
    "import numpy as np\n",
    "import pandas as pd\n",
    "from sklearn.linear_model import LogisticRegression\n",
    "from sklearn.model_selection import cross_val_score\n",
    "import os"
   ]
  }
 ],
 "metadata": {
  "kernelspec": {
   "display_name": "base",
   "language": "python",
   "name": "python3"
  },
  "language_info": {
   "codemirror_mode": {
    "name": "ipython",
    "version": 3
   },
   "file_extension": ".py",
   "mimetype": "text/x-python",
   "name": "python",
   "nbconvert_exporter": "python",
   "pygments_lexer": "ipython3",
   "version": "3.11.7"
  }
 },
 "nbformat": 4,
 "nbformat_minor": 5
}
